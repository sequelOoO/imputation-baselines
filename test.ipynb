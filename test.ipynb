{
 "cells": [
  {
   "cell_type": "code",
   "execution_count": 1,
   "metadata": {},
   "outputs": [],
   "source": [
    "import numpy as np\n",
    "import pandas as pd\n",
    "import sys"
   ]
  },
  {
   "cell_type": "code",
   "execution_count": 2,
   "metadata": {},
   "outputs": [],
   "source": [
    "import imputer\n",
    "imp = imputer.Imputer()"
   ]
  },
  {
   "cell_type": "code",
   "execution_count": 3,
   "metadata": {},
   "outputs": [],
   "source": [
    "dense_mat = pd.read_csv('./datasets/Seattle-data-set/mat.csv',index_col=0)\n",
    "rm = pd.read_csv('./datasets/Seattle-data-set/RM_mat.csv',index_col=0)\n",
    "dense_mat = dense_mat.values\n",
    "rm = rm.values\n",
    "\n",
    "\n",
    "binary_mat2 = np.round(rm + 0.5 - 0.2)\n",
    "binary_mat4 = np.round(rm+0.5 -0.4)\n",
    "binary_mat6= np.round(rm+0.5-0.6)\n",
    "binary_mat8= np.round(rm+0.5-0.8)\n",
    "\n",
    "nan_mat2 = binary_mat2.copy()\n",
    "nan_mat4 = binary_mat4.copy()\n",
    "nan_mat6 = binary_mat6.copy()\n",
    "nan_mat8 = binary_mat8.copy()\n",
    "\n",
    "nan_mat2[nan_mat2 == 0] = np.nan\n",
    "nan_mat4[nan_mat4 == 0] = np.nan\n",
    "nan_mat6[nan_mat6 == 0] = np.nan\n",
    "nan_mat8[nan_mat8 == 0] = np.nan\n",
    "\n",
    "\n",
    "sparse_mat2 = np.multiply(nan_mat2, dense_mat)\n",
    "sparse_mat4 = np.multiply(nan_mat4, dense_mat)\n",
    "sparse_mat6 = np.multiply(nan_mat6, dense_mat)\n",
    "sparse_mat8 = np.multiply(nan_mat8, dense_mat)"
   ]
  },
  {
   "cell_type": "code",
   "execution_count": 70,
   "metadata": {},
   "outputs": [
    {
     "data": {
      "text/plain": [
       "array([[ 6.19391382e+001,  6.19391112e+001,  6.19918007e+001, ...,\n",
       "        -3.24230262e+146,  6.39851115e+001,  6.37704700e+001],\n",
       "       [ 0.00000000e+000,  6.50824501e+001,  6.53091228e+001, ...,\n",
       "         6.72207347e+001,  6.45631471e+001,  6.39848665e+001],\n",
       "       [ 6.20773971e+001,  6.48083448e+001,  6.48082929e+001, ...,\n",
       "         6.81932069e+001,  6.71218346e+001,  2.87084815e+151],\n",
       "       ...,\n",
       "       [ 6.81125706e+001,              nan,              nan, ...,\n",
       "         6.41868267e+001,  6.31857782e+001,  6.74648200e+001],\n",
       "       [             nan,  5.89490339e+001,  5.66714267e+001, ...,\n",
       "                     nan,  5.87372462e+001,  6.46934372e+001],\n",
       "       [ 6.20320620e+001,  6.12120687e+001,  5.74887325e+001, ...,\n",
       "         6.10003110e+001,  5.34841360e+001,  6.48277723e+001]])"
      ]
     },
     "execution_count": 70,
     "metadata": {},
     "output_type": "execute_result"
    }
   ],
   "source": [
    "sparse_mat2"
   ]
  },
  {
   "cell_type": "code",
   "execution_count": 4,
   "metadata": {},
   "outputs": [],
   "source": [
    "knn_res2 = imp.knn(sparse_mat2)\n",
    "knn_res4 = imp.knn(sparse_mat4)\n",
    "knn_res6 = imp.knn(sparse_mat6)\n",
    "knn_res8 = imp.knn(sparse_mat8)"
   ]
  },
  {
   "cell_type": "code",
   "execution_count": 5,
   "metadata": {},
   "outputs": [],
   "source": [
    "from sklearn import metrics\n",
    "def mape(y_true,y_pred):\n",
    "    return np.mean(np.abs(y_pred-y_true)/y_true)*100\n",
    "def rmse(y_true,y_pred):\n",
    "    return np.sqrt(metrics.mean_squared_error(y_pred,y_true))"
   ]
  },
  {
   "cell_type": "code",
   "execution_count": 7,
   "metadata": {},
   "outputs": [],
   "source": [
    "pos2 = np.where((dense_mat != 0) & (binary_mat2 == 0))\n",
    "pos4 = np.where((dense_mat != 0) & (binary_mat4 == 0))\n",
    "pos6 = np.where((dense_mat != 0) & (binary_mat6 == 0))\n",
    "pos8 = np.where((dense_mat != 0) & (binary_mat8 == 0))"
   ]
  },
  {
   "cell_type": "code",
   "execution_count": 8,
   "metadata": {},
   "outputs": [],
   "source": [
    "knn_mape2 = mape(dense_mat[pos2],knn_res2[pos2])\n",
    "knn_mape4 = mape(dense_mat[pos4],knn_res4[pos4])\n",
    "knn_mape6 = mape(dense_mat[pos6],knn_res6[pos6])\n",
    "knn_mape8 = mape(dense_mat[pos8],knn_res8[pos8])"
   ]
  },
  {
   "cell_type": "code",
   "execution_count": 18,
   "metadata": {},
   "outputs": [],
   "source": [
    "knn_rmse2 = rmse(dense_mat[pos2],knn_res2[pos2])\n",
    "knn_rmse4 = rmse(dense_mat[pos4],knn_res2[pos4])\n",
    "knn_rmse6 = rmse(dense_mat[pos6],knn_res2[pos6])\n",
    "knn_rmse8 = rmse(dense_mat[pos8],knn_res2[pos8])"
   ]
  },
  {
   "cell_type": "code",
   "execution_count": 16,
   "metadata": {},
   "outputs": [
    {
     "name": "stdout",
     "output_type": "stream",
     "text": [
      "knn mape ,missing rate\n",
      "20% 8.552323762998148\n",
      "40% 9.362702031879724\n",
      "60% 10.360443113147243\n",
      "80% 12.368586561731675\n"
     ]
    }
   ],
   "source": [
    "print(\"knn mape ,missing rate\\n20% {}\\n40% {}\\n60% {}\\n80% {}\".format(knn_mape2,knn_mape4,knn_mape6,knn_mape8))\n",
    "# knn mape ,missing rate\n",
    "# 20% 8.552323762998148\n",
    "# 40% 9.362702031879724\n",
    "# 60% 10.360443113147243\n",
    "# 80% 12.368586561731675"
   ]
  },
  {
   "cell_type": "code",
   "execution_count": 19,
   "metadata": {},
   "outputs": [
    {
     "name": "stdout",
     "output_type": "stream",
     "text": [
      "knn rmse ,missing rate\n",
      "20% 4.896473316992998\n",
      "40% 3.482347108956469\n",
      "60% 2.872982217783698\n",
      "80% 2.4700221969003824\n"
     ]
    }
   ],
   "source": [
    "print(\"knn rmse ,missing rate\\n20% {}\\n40% {}\\n60% {}\\n80% {}\".format(knn_rmse2,knn_rmse4,knn_rmse6,knn_rmse8))\n",
    "# knn rmse ,missing rate\n",
    "# 20% 4.896473316992998\n",
    "# 40% 3.482347108956469\n",
    "# 60% 2.872982217783698\n",
    "# 80% 2.4700221969003824"
   ]
  },
  {
   "cell_type": "code",
   "execution_count": 17,
   "metadata": {
    "scrolled": true
   },
   "outputs": [],
   "source": [
    "bn_res2 = imp.bn(sparse_mat2)\n",
    "bn_res4 = imp.bn(sparse_mat4)\n",
    "bn_res6 = imp.bn(sparse_mat6)\n",
    "bn_res8 = imp.bn(sparse_mat8)\n"
   ]
  },
  {
   "cell_type": "code",
   "execution_count": 23,
   "metadata": {},
   "outputs": [],
   "source": [
    "bn_mape2 = mape(dense_mat[pos2],bn_res2[pos2])\n",
    "bn_mape4 = mape(dense_mat[pos4],bn_res2[pos4])\n",
    "bn_mape6 = mape(dense_mat[pos6],bn_res2[pos6])\n",
    "bn_mape8 = mape(dense_mat[pos8],bn_res2[pos8])"
   ]
  },
  {
   "cell_type": "code",
   "execution_count": 24,
   "metadata": {
    "scrolled": true
   },
   "outputs": [
    {
     "name": "stdout",
     "output_type": "stream",
     "text": [
      "bn mape ,missing rate\n",
      "20% 19.229660778581366\n",
      "40% 9.726328975875411\n",
      "60% 6.620193974564116\n",
      "80% 4.893353051478417\n"
     ]
    }
   ],
   "source": [
    "print(\"bn mape ,missing rate\\n20% {}\\n40% {}\\n60% {}\\n80% {}\".format(bn_mape2,bn_mape4,bn_mape6,bn_mape8))\n",
    "# bn mape ,missing rate\n",
    "# 20% 19.229660778581366\n",
    "# 40% 9.726328975875411\n",
    "# 60% 6.620193974564116\n",
    "# 80% 4.893353051478417"
   ]
  },
  {
   "cell_type": "code",
   "execution_count": 25,
   "metadata": {},
   "outputs": [],
   "source": [
    "bn_rmse2 = rmse(dense_mat[pos2],bn_res2[pos2])\n",
    "bn_rmse4 = rmse(dense_mat[pos4],bn_res2[pos4])\n",
    "bn_rmse6 = rmse(dense_mat[pos6],bn_res2[pos6])\n",
    "bn_rmse8 = rmse(dense_mat[pos8],bn_res2[pos8])"
   ]
  },
  {
   "cell_type": "code",
   "execution_count": 26,
   "metadata": {},
   "outputs": [
    {
     "name": "stdout",
     "output_type": "stream",
     "text": [
      "bn rmse ,missing rate\n",
      "20% 9.107861311615226\n",
      "40% 6.477464994490664\n",
      "60% 5.343993910780677\n",
      "80% 4.5944536301068535\n"
     ]
    }
   ],
   "source": [
    "print(\"bn rmse ,missing rate\\n20% {}\\n40% {}\\n60% {}\\n80% {}\".format(bn_rmse2,bn_rmse4,bn_rmse6,bn_rmse8))\n",
    "# bn rmse ,missing rate\n",
    "# 20% 9.107861311615226\n",
    "# 40% 6.477464994490664\n",
    "# 60% 5.343993910780677\n",
    "# 80% 4.5944536301068535"
   ]
  },
  {
   "cell_type": "code",
   "execution_count": 27,
   "metadata": {
    "scrolled": true
   },
   "outputs": [],
   "source": [
    "ppca_res2 = imp.ppca(sparse_mat2,20)\n",
    "ppca_res4 = imp.ppca(sparse_mat4,20)\n",
    "ppca_res6 = imp.ppca(sparse_mat6,20)\n",
    "ppca_res8 = imp.ppca(sparse_mat8,20)\n"
   ]
  },
  {
   "cell_type": "code",
   "execution_count": 28,
   "metadata": {},
   "outputs": [],
   "source": [
    "ppca_mape2 = mape(dense_mat[pos2],ppca_res2[pos2])\n",
    "ppca_mape4 = mape(dense_mat[pos4],ppca_res2[pos4])\n",
    "ppca_mape6 = mape(dense_mat[pos6],ppca_res2[pos6])\n",
    "ppca_mape8 = mape(dense_mat[pos8],ppca_res2[pos8])"
   ]
  },
  {
   "cell_type": "code",
   "execution_count": 29,
   "metadata": {},
   "outputs": [],
   "source": [
    "ppca_rmse2 = rmse(dense_mat[pos2],ppca_res2[pos2])\n",
    "ppca_rmse4 = rmse(dense_mat[pos4],ppca_res2[pos4])\n",
    "ppca_rmse6 = rmse(dense_mat[pos6],ppca_res2[pos6])\n",
    "ppca_rmse8 = rmse(dense_mat[pos8],ppca_res2[pos8])"
   ]
  },
  {
   "cell_type": "code",
   "execution_count": 30,
   "metadata": {},
   "outputs": [
    {
     "name": "stdout",
     "output_type": "stream",
     "text": [
      "ppca mape ,missing rate\n",
      "20% 7.751898215985288\n",
      "40% 3.9208966348566534\n",
      "60% 2.668745457957377\n",
      "80% 1.9726179898187541\n"
     ]
    }
   ],
   "source": [
    "print(\"ppca mape ,missing rate\\n20% {}\\n40% {}\\n60% {}\\n80% {}\".format(ppca_mape2,ppca_mape4,ppca_mape6,ppca_mape8))\n",
    "# ppca mape ,missing rate\n",
    "# 20% 7.751898215985288\n",
    "# 40% 3.9208966348566534\n",
    "# 60% 2.668745457957377\n",
    "# 80% 1.9726179898187541"
   ]
  },
  {
   "cell_type": "code",
   "execution_count": 31,
   "metadata": {},
   "outputs": [
    {
     "name": "stdout",
     "output_type": "stream",
     "text": [
      "ppca rmse ,missing rate\n",
      "20% 4.638329772668198\n",
      "40% 3.298756723166862\n",
      "60% 2.7215177321288944\n",
      "80% 2.3398018846082738\n"
     ]
    }
   ],
   "source": [
    "print(\"ppca rmse ,missing rate\\n20% {}\\n40% {}\\n60% {}\\n80% {}\".format(ppca_rmse2,ppca_rmse4,ppca_rmse6,ppca_rmse8))\n",
    "# ppca rmse ,missing rate\n",
    "# 20% 4.638329772668198\n",
    "# 40% 3.298756723166862\n",
    "# 60% 2.7215177321288944\n",
    "# 80% 2.3398018846082738"
   ]
  },
  {
   "cell_type": "code",
   "execution_count": 69,
   "metadata": {},
   "outputs": [
    {
     "name": "stderr",
     "output_type": "stream",
     "text": [
      "<ipython-input-69-0db3c6ae468a>:26: UserWarning: FixedFormatter should only be used together with FixedLocator\n",
      "  ax1.set_xticklabels(x)\n",
      "<ipython-input-69-0db3c6ae468a>:31: UserWarning: FixedFormatter should only be used together with FixedLocator\n",
      "  ax2.set_xticklabels(x)\n"
     ]
    },
    {
     "data": {
      "image/png": "[encoded data removed]",
      "text/plain": [
       "<Figure size 432x288 with 2 Axes>"
      ]
     },
     "metadata": {
      "needs_background": "light"
     },
     "output_type": "display_data"
    }
   ],
   "source": [
    "import matplotlib.pyplot as plt\n",
    "x = ['20%','40%','60%','80%']\n",
    "bn_rmse = [bn_rmse2,bn_rmse4,bn_rmse6,bn_rmse8]\n",
    "bn_mape = [bn_mape2,bn_mape4,bn_mape6,bn_mape8]\n",
    "knn_rmse = [knn_rmse2,knn_rmse4,knn_rmse6,knn_rmse8]\n",
    "knn_mape = [knn_mape2,knn_mape4,knn_mape6,knn_mape8]\n",
    "ppca_rmse = [ppca_rmse2,ppca_rmse6,ppca_rmse6,ppca_rmse8]\n",
    "ppca_mape = [ppca_mape2,ppca_mape4,ppca_mape6,ppca_mape8]\n",
    "\n",
    "total_width, n = 0.8, 3\n",
    "width = total_width / n\n",
    "index1 = np.arange(len(x)) - (total_width-width)/2\n",
    "index2 = index1+width\n",
    "index3 = index2+width\n",
    "ax1 = plt.subplot(121)\n",
    "ax1.bar(index1,bn_rmse,width=width,label = 'bn')\n",
    "ax1.bar(index2,knn_rmse,width=width,label = 'knn')\n",
    "ax1.bar(index3,ppca_rmse,width=width,label = 'ppca')\n",
    "ax1.legend()\n",
    "ax1.set_title('rmse')\n",
    "ax1.set_xlabel(\"missing rate\")\n",
    "ax1.set_ylabel(\"values\")\n",
    "\n",
    "# print(x)\n",
    "x.insert(0,'0')\n",
    "ax1.set_xticklabels(x)\n",
    "ax2 = plt.subplot(122)\n",
    "ax2.bar(index1,bn_mape,width=width,label = 'bn')\n",
    "ax2.bar(index2,knn_mape,width=width,label = 'knn')\n",
    "ax2.bar(index3,ppca_mape,width=width,label = 'ppca')\n",
    "ax2.set_xticklabels(x)\n",
    "ax2.legend()\n",
    "ax2.set_title('mape')\n",
    "ax2.set_xlabel(\"missing rate\")\n",
    "ax2.set_ylabel(\"values\")\n",
    "plt.show()"
   ]
  }
 ],
 "metadata": {
  "kernelspec": {
   "display_name": "Python [conda env:pytorch_cpu]",
   "language": "python",
   "name": "conda-env-pytorch_cpu-py"
  },
  "language_info": {
   "codemirror_mode": {
    "name": "ipython",
    "version": 3
   },
   "file_extension": ".py",
   "mimetype": "text/x-python",
   "name": "python",
   "nbconvert_exporter": "python",
   "pygments_lexer": "ipython3",
   "version": "3.8.5"
  }
 },
 "nbformat": 4,
 "nbformat_minor": 4
}
